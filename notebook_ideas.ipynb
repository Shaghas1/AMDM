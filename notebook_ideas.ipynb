{
 "cells": [
  {
   "cell_type": "code",
   "execution_count": 7,
   "metadata": {},
   "outputs": [],
   "source": [
    "#Libraries required\n",
    "import pandas as pd\n",
    "import numpy as np\n",
    "import networkx as nx\n",
    "from sklearn.decomposition import pca\n",
    "import scipy.sparse.linalg as la\n",
    "from scipy.sparse import csr_matrix\n",
    "import scipy\n",
    "import scipy.sparse as sps\n",
    "from sklearn.datasets.samples_generator import make_blobs\n",
    "from sklearn.cluster import KMeans\n",
    "from collections import Counter\n",
    "import matplotlib.pyplot as plt\n",
    "import random\n",
    "import sys "
   ]
  },
  {
   "cell_type": "markdown",
   "metadata": {},
   "source": [
    "#### Objective function\n",
    "The following function computes the objective function given a clustering result."
   ]
  },
  {
   "cell_type": "code",
   "execution_count": 8,
   "metadata": {},
   "outputs": [],
   "source": [
    "def obj_func(graph,clusters):\n",
    "    n_partition = max(clusters)+1\n",
    "    n_vert = len(clusters)\n",
    "    \n",
    "    nodes_in_cluster = [0.0]*n_partition\n",
    "    edge_out=[0.0]*n_partition #Array to compute number of edges moving out of a cluster to another\n",
    "    \n",
    "    for node in range(n_vert):\n",
    "        nodes_in_cluster[clusters[node]] += 1\n",
    "        for n in graph.neighbors(node):\n",
    "                if(clusters[n]!=clusters[node]):\n",
    "                    edge_out[clusters[node]]+=1\n",
    "    #print(\"edge outs:\", np.array(edge_out))\n",
    "    phi = np.sum(np.array(edge_out)/np.array(nodes_in_cluster)) \n",
    "    \n",
    "    return phi"
   ]
  },
  {
   "cell_type": "markdown",
   "metadata": {},
   "source": [
    "The following function saves the results in the proper format"
   ]
  },
  {
   "cell_type": "code",
   "execution_count": 9,
   "metadata": {},
   "outputs": [],
   "source": [
    "def save_in_file(f_name,clusters):\n",
    "    f= open(\"results//\"+f_name+\".txt\",\"w+\")\n",
    "    for i in range(len(clusters)):\n",
    "        str_out = \"\"+str(i)+\" \"+str(clusters[i])+\"\\n\"\n",
    "        f.write(str_out)\n",
    "        \n",
    "#save_in_file(f_name,clusters)"
   ]
  },
  {
   "cell_type": "markdown",
   "metadata": {},
   "source": [
    "##### Loading the graph, computing adjacency and laplacian\n",
    "Let's process the text file and create a graph along with its adjacency and laplacian matrices. The first part of the following are the parameters that need to be tuned."
   ]
  },
  {
   "cell_type": "code",
   "execution_count": 80,
   "metadata": {},
   "outputs": [
    {
     "name": "stdout",
     "output_type": "stream",
     "text": [
      "Graph  ca-GrQc.txt\n",
      "Number of nodes:  4158 , Number of edges:  13428 , Number of partitions:  2\n",
      "Considerd dimension:  2 , normalized laplace: False , normalize eigvec: False\n"
     ]
    }
   ],
   "source": [
    "# The graphs\n",
    "f_name = \"ca-GrQc.txt\"\n",
    "#f_name = \"ca-AstroPh.txt\"\n",
    "#f_name = \"ca-CondMat.txt\"\n",
    "\n",
    "# normalizing the eigenvectrs (each row sum up to one)\n",
    "normalize_eigvec = False\n",
    "\n",
    "# normalizing the laplacian\n",
    "normalized_laplac = False #THIS SHOULD BE FALSE IN THE CURRENT IMPLEMENTATION\n",
    "\n",
    "#Reading graph file into csv file- contains only edges\n",
    "f=open(f_name) \n",
    "graph=np.array(pd.read_csv(f,sep=' ',header=None,skiprows=1))\n",
    "\n",
    "#reading the number of vertices,edges and partitions required\n",
    "with open(f_name) as f: \n",
    "    first_line = f.readline()\n",
    "graph_key=[int(s) for s in first_line.split() if s.isdigit()]\n",
    "\n",
    "n_vert=graph_key[0]\n",
    "n_edge=graph_key[1]\n",
    "n_partition=graph_key[2]\n",
    "\n",
    "# number of eigenvectors to be used\n",
    "dim = n_partition # sometimes this should be modified \n",
    "\n",
    "print(\"Graph \", f_name)\n",
    "print(\"Number of nodes: \", n_vert, \", Number of edges: \", n_edge, \", Number of partitions: \", n_partition)\n",
    "print(\"Considerd dimension: \", dim, \", normalized laplace:\", normalized_laplac, \", normalize eigvec:\", normalize_eigvec)\n",
    "\n",
    "#Constructing graph\n",
    "G=nx.Graph()\n",
    "G.add_edges_from(graph)\n",
    "\n",
    "#compute adjacency matrix\n",
    "adj_mat = nx.adjacency_matrix(G)\n",
    "n,m = adj_mat.shape\n",
    "diags = adj_mat.sum(axis=1)\n",
    "D = sps.spdiags(diags.flatten(), [0], m, n, format='csr')\n",
    "\n",
    "#Computing laplacian \n",
    "if normalized_laplac: #DO NOT USE THIS FOR NOW\n",
    "    inv_D = scipy.sparse.linalg.inv(D)\n",
    "    L1 = csr_matrix.sqrt(D).multiply(adj_mat)\n",
    "    L = L1.multiply(csr_matrix.sqrt(inv_D))\n",
    "    #L=scipy.sparse.csgraph.laplacian(G, normed=True, return_diag=False, use_out_degree=False)\n",
    "    #L=nx.normalized_laplacian_matrix(G)\n",
    "else: #USE THIS FOR NOW\n",
    "    L = D - adj_mat\n",
    "    #L = scipy.sparse.csgraph.laplacian(G, normed=False, return_diag=False, use_out_degree=False\n",
    "    #L=nx.laplacian_matrix(G)\n",
    "\n",
    "L=csr_matrix.astype(L,dtype='f')\n",
    "\n",
    "# Computing eigen vectors\n",
    "eig_val, X=la.eigsh(L,dim,which='SM') \n",
    "\n",
    "if normalize_eigvec == True:\n",
    "    #sum_over_rows = np.sum(X,1)\n",
    "    for i in range(n_vert):\n",
    "        #X[i,:] = X[i,:]/sum_over_rows[i] \n",
    "        X[i,:] = X[i,:]/np.linalg.norm(X[i,:]) # norm 1 normalization"
   ]
  },
  {
   "cell_type": "markdown",
   "metadata": {},
   "source": [
    "#### Dummy plotting\n",
    "Let's try to plot the data in two dimensions."
   ]
  },
  {
   "cell_type": "code",
   "execution_count": 81,
   "metadata": {},
   "outputs": [
    {
     "data": {
      "text/plain": [
       "[<matplotlib.lines.Line2D at 0xba4f746eb8>]"
      ]
     },
     "execution_count": 81,
     "metadata": {},
     "output_type": "execute_result"
    },
    {
     "data": {
      "image/png": "[encoded data removed]",
      "text/plain": [
       "<Figure size 432x288 with 1 Axes>"
      ]
     },
     "metadata": {},
     "output_type": "display_data"
    }
   ],
   "source": [
    "_, data=la.eigsh(L,2,which='SM') \n",
    "plt.plot(data[:,0],data[:,1],'.')"
   ]
  },
  {
   "cell_type": "markdown",
   "metadata": {},
   "source": [
    "#### Random clustering baseline\n",
    "Let's first try a random cluster assignment baseline. This would give us an idea about the error when clusters have roughly the same size"
   ]
  },
  {
   "cell_type": "code",
   "execution_count": 30,
   "metadata": {},
   "outputs": [
    {
     "name": "stdout",
     "output_type": "stream",
     "text": [
      "Random error:\n",
      "6.5455965412105765\n",
      "Number of nodes in each cluster:\n",
      "[2106, 2052]\n"
     ]
    }
   ],
   "source": [
    "# compute error function for random assignment baseline\n",
    "print(\"Random error:\")\n",
    "clusters_rnd = np.array([random.randint(0,n_partition-1) for i in range(n_vert)])\n",
    "print(obj_func(G,clusters_rnd))\n",
    "print(\"Number of nodes in each cluster:\")\n",
    "nodes_in_cluster = [sum(clusters_rnd==i) for i in range(n_partition)]\n",
    "print(nodes_in_cluster)"
   ]
  },
  {
   "cell_type": "markdown",
   "metadata": {},
   "source": [
    "#### K-means baseline\n",
    "Let's try K-means as a baseline."
   ]
  },
  {
   "cell_type": "code",
   "execution_count": 82,
   "metadata": {},
   "outputs": [
    {
     "name": "stdout",
     "output_type": "stream",
     "text": [
      "K-means (baseline) error with 2 dimensions:\n",
      "8.8589001447178\n",
      "Number of nodes in each cluster:\n",
      "[4146, 12]\n"
     ]
    }
   ],
   "source": [
    "# Computing k-means\n",
    "#kmeans = KMeans(n_clusters=i, init='k-means++', max_iter=300, n_init=10, random_state=0)\n",
    "km=KMeans(n_clusters=n_partition,max_iter=5000) #, init=\"k-means++\",n_init=100\n",
    "km.fit_predict(X)\n",
    "\n",
    "# compute error function for k-means baseline\n",
    "print(\"K-means (baseline) error with\", X.shape[1], \"dimensions:\")\n",
    "print(obj_func(G,km.labels_))\n",
    "print(\"Number of nodes in each cluster:\")\n",
    "nodes_in_cluster = [sum(km.labels_==i) for i in range(n_partition)]\n",
    "print(nodes_in_cluster)\n",
    "#save_in_file(f_name,km.labels_)"
   ]
  },
  {
   "cell_type": "code",
   "execution_count": 83,
   "metadata": {
    "scrolled": true
   },
   "outputs": [
    {
     "data": {
      "text/plain": [
       "<matplotlib.collections.PathCollection at 0xba4f670358>"
      ]
     },
     "execution_count": 83,
     "metadata": {},
     "output_type": "execute_result"
    },
    {
     "data": {
      "image/png": "[encoded data removed]",
      "text/plain": [
       "<Figure size 432x288 with 1 Axes>"
      ]
     },
     "metadata": {},
     "output_type": "display_data"
    }
   ],
   "source": [
    "from random import randint\n",
    "data_colors = []\n",
    "for i in range(n_partition):\n",
    "    data_colors.append('#%06X' % randint(0, 0xFFFFFF))\n",
    "plt.scatter(X[:,0], X[:,1], c=[data_colors[i] for i in km.labels_])"
   ]
  },
  {
   "cell_type": "markdown",
   "metadata": {},
   "source": [
    "#### Spectral clustering baseline\n",
    "Let's try Spectral clustering (https://scikit-learn.org/stable/modules/clustering.html#spectral-clustering) to see if it works better. This algorithm uses the adjacency matrix as an input and uses a label assignment strategies (e.g., K-means) on a low dimensional representation of the matrix. "
   ]
  },
  {
   "cell_type": "code",
   "execution_count": 58,
   "metadata": {},
   "outputs": [
    {
     "name": "stdout",
     "output_type": "stream",
     "text": [
      "Spectral Clustering error using adjacency matrix:\n",
      "5.478612405190005\n",
      "Number of nodes in each cluster:\n",
      "[4101, 57]\n"
     ]
    }
   ],
   "source": [
    "from sklearn.cluster import SpectralClustering\n",
    "\n",
    "sc = SpectralClustering(n_partition, affinity='precomputed', n_init=100, assign_labels='discretize')\n",
    "#Alternative parameterazations: assign_labels=\"kmeans\", assign_labels=\"discretize\"\n",
    "sc.fit_predict(adj_mat) \n",
    "print(\"Spectral Clustering error using adjacency matrix:\")\n",
    "print(obj_func(G,sc.labels_))\n",
    "print(\"Number of nodes in each cluster:\")\n",
    "nodes_in_cluster = [sum(sc.labels_==i) for i in range(n_partition)]\n",
    "print(nodes_in_cluster)"
   ]
  },
  {
   "cell_type": "code",
   "execution_count": 59,
   "metadata": {},
   "outputs": [
    {
     "data": {
      "text/plain": [
       "<matplotlib.collections.PathCollection at 0xba4f5f0eb8>"
      ]
     },
     "execution_count": 59,
     "metadata": {},
     "output_type": "execute_result"
    },
    {
     "data": {
      "image/png": "[encoded data removed]",
      "text/plain": [
       "<Figure size 432x288 with 1 Axes>"
      ]
     },
     "metadata": {},
     "output_type": "display_data"
    }
   ],
   "source": [
    "data_colors = ['orangered','dodgerblue','springgreen']\n",
    "plt.scatter(X[:,0], X[:,1], c=[data_colors[i] for i in sc.labels_])"
   ]
  },
  {
   "cell_type": "markdown",
   "metadata": {},
   "source": [
    "#### Modified K-means \n",
    "Let's implement our own K-means and then modify it to force the clusters to be balanced. There are usually two sets of functions implemented. The _plus methods use the K++ initialization for the centeroids."
   ]
  },
  {
   "cell_type": "code",
   "execution_count": 60,
   "metadata": {},
   "outputs": [],
   "source": [
    "# Useful functions from https://www.geeksforgeeks.org/ml-k-means-algorithm/\n",
    "\n",
    "def distance(p1, p2): \n",
    "    return np.sum((p1 - p2)**2) \n",
    "\n",
    "# initialisation algorithm K++\n",
    "def initialize(data, k): \n",
    "    ''' \n",
    "    intialized the centroids for K-means++ \n",
    "    inputs: \n",
    "        data - numpy array of data points having shape (200, 2) \n",
    "        k - number of clusters  \n",
    "    '''\n",
    "    ## initialize the centroids list and add \n",
    "    ## a randomly selected data point to the list \n",
    "    centroids = [] \n",
    "    centroids.append(data[np.random.randint( \n",
    "            data.shape[0]), :]) \n",
    "   \n",
    "    ## compute remaining k - 1 centroids \n",
    "    for c_id in range(k - 1): \n",
    "          \n",
    "        ## initialize a list to store distances of data \n",
    "        ## points from nearest centroid \n",
    "        dist = [] \n",
    "        for i in range(data.shape[0]): \n",
    "            point = data[i, :] \n",
    "            d = sys.maxsize \n",
    "              \n",
    "            ## compute distance of 'point' from each of the previously \n",
    "            ## selected centroid and store the minimum distance \n",
    "            for j in range(len(centroids)): \n",
    "                temp_dist = distance(point, centroids[j]) \n",
    "                d = min(d, temp_dist) \n",
    "            dist.append(d) \n",
    "              \n",
    "        ## select data point with maximum distance as our next centroid \n",
    "        dist = np.array(dist) \n",
    "        next_centroid = data[np.argmax(dist), :] \n",
    "        centroids.append(next_centroid) \n",
    "        dist = [] \n",
    "    return centroids "
   ]
  },
  {
   "cell_type": "code",
   "execution_count": 61,
   "metadata": {},
   "outputs": [],
   "source": [
    "def k_means_plus(X, n_partition, num_iters):    \n",
    "    \n",
    "    dim = X.shape[1]\n",
    "    n_data = X.shape[0]\n",
    "    \n",
    "    #Initialize centeriods using ++ method\n",
    "    centroids = initialize(X, n_partition)\n",
    "    \n",
    "    k_means_errors=[]\n",
    "    for it in range(num_iters):\n",
    "        print(\"iteration:\",it)\n",
    "        \n",
    "        #assign clusters\n",
    "        clusters = np.zeros(n_vert,dtype=np.int32)\n",
    "        for i in range(n_vert):\n",
    "            clusters[i] = np.argmin([np.linalg.norm(X[i] - centroids[j]) for j in range(n_partition)])\n",
    "        \n",
    "        #update means\n",
    "        new_centroids = np.zeros((n_partition,dim))\n",
    "        for i in range(n_partition):\n",
    "            cluster_points = np.array([X[j] for j in range(len(X)) if clusters[j] == i])\n",
    "            if len(cluster_points) != 0:\n",
    "                new_centroids[i] = np.mean(cluster_points, axis = 0)\n",
    "        centroids = new_centroids\n",
    "        \n",
    "        k_means_errors.append(obj_func(G,clusters))\n",
    "        \n",
    "    return centroids,clusters,k_means_errors"
   ]
  },
  {
   "cell_type": "code",
   "execution_count": 62,
   "metadata": {},
   "outputs": [],
   "source": [
    "def k_means(X, n_partition, num_iters):    \n",
    "    \n",
    "    dim = X.shape[1]\n",
    "    n_data = X.shape[0]\n",
    "    \n",
    "    #Assign data to random clusters\n",
    "    clusters = np.array([random.randint(0,n_partition-1) for i in range(n_data)])\n",
    "    \n",
    "    k_means_errors=[]\n",
    "    for it in range(num_iters):\n",
    "        print(\"iteration:\",it)\n",
    "        \n",
    "        k_means_errors.append(obj_func(G,clusters))\n",
    "        \n",
    "        #update means\n",
    "        new_centroids = np.zeros((n_partition,dim))\n",
    "        for i in range(n_partition):\n",
    "            cluster_points = np.array([X[j] for j in range(len(X)) if clusters[j] == i])\n",
    "            if len(cluster_points) != 0:\n",
    "                new_centroids[i] = np.mean(cluster_points, axis = 0)\n",
    "        centroids = new_centroids\n",
    "        \n",
    "        \n",
    "        #assign clusters\n",
    "        clusters = np.zeros(n_vert,dtype=np.int32)\n",
    "        for i in range(n_vert):\n",
    "            clusters[i] = np.argmin([np.linalg.norm(X[i] - centroids[j]) for j in range(n_partition)])\n",
    "        \n",
    "    return centroids,clusters,k_means_errors"
   ]
  },
  {
   "cell_type": "code",
   "execution_count": 64,
   "metadata": {},
   "outputs": [
    {
     "name": "stdout",
     "output_type": "stream",
     "text": [
      "iteration: 0\n",
      "iteration: 1\n",
      "iteration: 2\n",
      "iteration: 3\n",
      "iteration: 4\n",
      "K-means_ours (baseline) error with 2 dimensions:\n",
      "8.8589001447178\n",
      "Number of nodes in each cluster:\n",
      "[4146, 12]\n"
     ]
    },
    {
     "data": {
      "image/png": "[encoded data removed]",
      "text/plain": [
       "<Figure size 432x288 with 1 Axes>"
      ]
     },
     "metadata": {},
     "output_type": "display_data"
    }
   ],
   "source": [
    "#centroids, clusters, errs = k_means(X, n_partition, num_iters=10)\n",
    "centroids, clusters, errs = k_means_plus(X, n_partition, num_iters=5)\n",
    "\n",
    "plt.plot(errs)\n",
    "# compute error function for k-means baseline\n",
    "print(\"K-means_ours (baseline) error with\", X.shape[1], \"dimensions:\")\n",
    "print(obj_func(G,clusters))\n",
    "print(\"Number of nodes in each cluster:\")\n",
    "nodes_in_cluster = [sum(clusters==i) for i in range(n_partition)]\n",
    "print(nodes_in_cluster)\n",
    "#print(\"The final cluster mean values are:\",centroids)"
   ]
  },
  {
   "cell_type": "code",
   "execution_count": 65,
   "metadata": {},
   "outputs": [
    {
     "data": {
      "text/plain": [
       "<matplotlib.collections.PathCollection at 0xba4f71d160>"
      ]
     },
     "execution_count": 65,
     "metadata": {},
     "output_type": "execute_result"
    },
    {
     "data": {
      "image/png": "[encoded data removed]",
      "text/plain": [
       "<Figure size 432x288 with 1 Axes>"
      ]
     },
     "metadata": {},
     "output_type": "display_data"
    }
   ],
   "source": [
    "data_colors = ['orangered','dodgerblue','springgreen']\n",
    "plt.scatter(X[:,0], X[:,1], c=[data_colors[i] for i in clusters])"
   ]
  },
  {
   "cell_type": "markdown",
   "metadata": {},
   "source": [
    "In the first modification, we assume that the size of each cluster cannot be more than n_data/n_partition when we are assigning data points to clusters in a standard K-means algorithm."
   ]
  },
  {
   "cell_type": "code",
   "execution_count": 66,
   "metadata": {},
   "outputs": [],
   "source": [
    "def k_means_modified1_plus(X, n_partition, num_iters):    \n",
    "    \n",
    "    \n",
    "    dim = X.shape[1]\n",
    "    n_data = X.shape[0]\n",
    "    max_cluster_size = n_data/n_partition\n",
    "    \n",
    "    #Initialize centeriods using ++ method\n",
    "    centroids = initialize(X, n_partition)\n",
    "    \n",
    "    k_means_errors=[]\n",
    "    for it in range(num_iters):\n",
    "        print(\"iteration:\",it)\n",
    "\n",
    "        #assign clusters\n",
    "        data_per_cluster = np.zeros(n_partition)\n",
    "        clusters = np.zeros(n_data,dtype=np.int32)\n",
    "        for i in range(n_data):\n",
    "            dist_to_cluster = [np.linalg.norm(X[i] - centroids[j]) for j in range(n_partition)]\n",
    "            close_clusters = np.argsort(dist_to_cluster)\n",
    "            assigned_flag = False\n",
    "            for j in range(n_partition):\n",
    "                if  assigned_flag == False and data_per_cluster[close_clusters[j]] < max_cluster_size:\n",
    "                    clusters[i] = close_clusters[j]\n",
    "                    data_per_cluster[close_clusters[j]] += 1\n",
    "                    assigned_flag = True \n",
    "                    continue\n",
    "                    \n",
    "        #update means\n",
    "        new_centroids = np.zeros((n_partition,dim))\n",
    "        for i in range(n_partition):\n",
    "            cluster_points = np.array([X[j] for j in range(n_data) if clusters[j] == i])\n",
    "            if len(cluster_points) != 0:\n",
    "                new_centroids[i] = np.mean(cluster_points, axis = 0)\n",
    "        centroids = new_centroids\n",
    "        \n",
    "        \n",
    "        k_means_errors.append(obj_func(G,clusters))\n",
    "        \n",
    "    return centroids,clusters,k_means_errors"
   ]
  },
  {
   "cell_type": "code",
   "execution_count": 67,
   "metadata": {},
   "outputs": [],
   "source": [
    "def k_means_modified1(X, n_partition, num_iters):    \n",
    "    \n",
    "    \n",
    "    dim = X.shape[1]\n",
    "    n_data = X.shape[0]\n",
    "    max_cluster_size = n_data/n_partition\n",
    "    \n",
    "    \n",
    "    #Assign data to random clusters\n",
    "    clusters = np.array([random.randint(0,n_partition-1) for i in range(n_data)])   \n",
    "    \n",
    "    k_means_errors=[]\n",
    "    for it in range(num_iters):\n",
    "        print(\"iteration:\",it)\n",
    "        \n",
    "        k_means_errors.append(obj_func(G,clusters))\n",
    "        \n",
    "        #update means\n",
    "        new_centroids = np.zeros((n_partition,dim))\n",
    "        for i in range(n_partition):\n",
    "            cluster_points = np.array([X[j] for j in range(n_data) if clusters[j] == i])\n",
    "            if len(cluster_points) != 0:\n",
    "                new_centroids[i] = np.mean(cluster_points, axis = 0)\n",
    "        centroids = new_centroids\n",
    "        \n",
    "        \n",
    "        #assign clusters\n",
    "        data_per_cluster = np.zeros(n_partition)\n",
    "        clusters = np.zeros(n_data,dtype=np.int32)\n",
    "        for i in range(n_data):\n",
    "            dist_to_cluster = [np.linalg.norm(X[i] - centroids[j]) for j in range(n_partition)]\n",
    "            close_clusters = np.argsort(dist_to_cluster)\n",
    "            assigned_flag = False\n",
    "            for j in range(n_partition):\n",
    "                if  assigned_flag == False and data_per_cluster[close_clusters[j]] < max_cluster_size:\n",
    "                    clusters[i] = close_clusters[j]\n",
    "                    data_per_cluster[close_clusters[j]] += 1\n",
    "                    assigned_flag = True \n",
    "                    continue\n",
    "        \n",
    "        \n",
    "    return centroids,clusters,k_means_errors"
   ]
  },
  {
   "cell_type": "code",
   "execution_count": 69,
   "metadata": {},
   "outputs": [
    {
     "name": "stdout",
     "output_type": "stream",
     "text": [
      "iteration: 0\n",
      "iteration: 1\n",
      "iteration: 2\n",
      "iteration: 3\n",
      "iteration: 4\n",
      "iteration: 5\n",
      "iteration: 6\n",
      "iteration: 7\n",
      "iteration: 8\n",
      "iteration: 9\n",
      "K-means_ours (baseline) error with 2 dimensions:\n",
      "6.446368446368447\n",
      "Number of nodes in each cluster:\n",
      "[2079, 2079]\n"
     ]
    },
    {
     "data": {
      "image/png": "[encoded data removed]",
      "text/plain": [
       "<Figure size 432x288 with 1 Axes>"
      ]
     },
     "metadata": {},
     "output_type": "display_data"
    }
   ],
   "source": [
    "#centroids, clusters, errs = k_means_modified1(X, n_partition, num_iters=10)\n",
    "centroids, clusters, errs = k_means_modified1_plus(X, n_partition, num_iters=10)\n",
    "\n",
    "plt.plot(errs)\n",
    "# compute error function for k-means baseline\n",
    "print(\"K-means_ours (baseline) error with\", X.shape[1], \"dimensions:\")\n",
    "print(obj_func(G,clusters))\n",
    "print(\"Number of nodes in each cluster:\")\n",
    "nodes_in_cluster = [sum(clusters==i) for i in range(n_partition)]\n",
    "print(nodes_in_cluster)\n",
    "#print(\"The final cluster mean values are:\",centroids)"
   ]
  },
  {
   "cell_type": "code",
   "execution_count": 70,
   "metadata": {},
   "outputs": [
    {
     "data": {
      "text/plain": [
       "<matplotlib.collections.PathCollection at 0xba4f836eb8>"
      ]
     },
     "execution_count": 70,
     "metadata": {},
     "output_type": "execute_result"
    },
    {
     "data": {
      "image/png": "[encoded data removed]",
      "text/plain": [
       "<Figure size 432x288 with 1 Axes>"
      ]
     },
     "metadata": {},
     "output_type": "display_data"
    }
   ],
   "source": [
    "data_colors = ['orangered','dodgerblue','springgreen']\n",
    "plt.scatter(X[:,0], X[:,1], c=[data_colors[i] for i in clusters])"
   ]
  },
  {
   "cell_type": "markdown",
   "metadata": {},
   "source": [
    "In the second modification, we start from a standard K-means clustering and then try to distribute the data from the larger cluster to closest cluster with less data."
   ]
  },
  {
   "cell_type": "code",
   "execution_count": 71,
   "metadata": {},
   "outputs": [],
   "source": [
    "def k_means_modified2(X, n_partition, num_iters):    \n",
    "    \n",
    "    dim = X.shape[1]\n",
    "    n_data = X.shape[0]\n",
    "    max_cluster_size = n_data/n_partition\n",
    "    k_means_errors=[]\n",
    "    \n",
    "    #first use standard K-means to get the clusters\n",
    "    km=KMeans(n_clusters=n_partition,max_iter=5000)\n",
    "    km.fit(X)\n",
    "    \n",
    "    clusters = km.labels_\n",
    "    \n",
    "    data_per_cluster = [sum(clusters==i) for i in range(n_partition)]\n",
    "    k_means_errors.append(obj_func(G,clusters))\n",
    "    \n",
    "    for it in range(num_iters):\n",
    "        print(\"iteration:\",it)\n",
    "        \n",
    "        #update means\n",
    "        new_centroids = np.zeros((n_partition,dim))\n",
    "        for i in range(n_partition):\n",
    "            cluster_points = np.array([X[j] for j in range(n_data) if clusters[j] == i])\n",
    "            if len(cluster_points) != 0:\n",
    "                new_centroids[i] = np.mean(cluster_points, axis = 0)\n",
    "        centroids = new_centroids\n",
    "        \n",
    "        #re-assign clusters\n",
    "        for i in range(n_data):\n",
    "            #if data is from big clusters, then re-assign it\n",
    "            if data_per_cluster[clusters[i]] > max_cluster_size:\n",
    "                dist_to_cluster = [np.linalg.norm(X[i] - centroids[j]) for j in range(n_partition)]\n",
    "                close_clusters = np.argsort(dist_to_cluster)\n",
    "                assigned_flag = False        \n",
    "                for j in range(n_partition):\n",
    "                    if  assigned_flag == False and data_per_cluster[close_clusters[j]] < max_cluster_size:\n",
    "                        data_per_cluster[clusters[i]] -= 1\n",
    "                        clusters[i] = close_clusters[j]\n",
    "                        data_per_cluster[close_clusters[j]] += 1\n",
    "                        assigned_flag = True \n",
    "                        continue\n",
    "                        \n",
    "        k_means_errors.append(obj_func(G,clusters))\n",
    "        #print(k_means_errors)\n",
    "\n",
    "    return centroids,clusters,k_means_errors"
   ]
  },
  {
   "cell_type": "code",
   "execution_count": 72,
   "metadata": {
    "scrolled": true
   },
   "outputs": [
    {
     "name": "stdout",
     "output_type": "stream",
     "text": [
      "iteration: 0\n",
      "iteration: 1\n",
      "iteration: 2\n",
      "iteration: 3\n",
      "iteration: 4\n",
      "iteration: 5\n",
      "iteration: 6\n",
      "iteration: 7\n",
      "iteration: 8\n",
      "iteration: 9\n",
      "K-means_ours (baseline) error with 2 dimensions:\n",
      "6.424242424242424\n",
      "Number of nodes in each cluster:\n",
      "[2079, 2079]\n"
     ]
    },
    {
     "data": {
      "image/png": "[encoded data removed]",
      "text/plain": [
       "<Figure size 432x288 with 1 Axes>"
      ]
     },
     "metadata": {},
     "output_type": "display_data"
    }
   ],
   "source": [
    "centroids, clusters, errs = k_means_modified2(X, n_partition, num_iters=10)\n",
    "\n",
    "plt.plot(errs)\n",
    "# compute error function for k-means baseline\n",
    "print(\"K-means_ours (baseline) error with\", X.shape[1], \"dimensions:\")\n",
    "print(obj_func(G,clusters))\n",
    "print(\"Number of nodes in each cluster:\")\n",
    "nodes_in_cluster = [sum(clusters==i) for i in range(n_partition)]\n",
    "print(nodes_in_cluster)\n",
    "#print(\"The final cluster mean values are:\",centroids)"
   ]
  },
  {
   "cell_type": "code",
   "execution_count": 73,
   "metadata": {},
   "outputs": [
    {
     "data": {
      "text/plain": [
       "<matplotlib.collections.PathCollection at 0xba4f9364a8>"
      ]
     },
     "execution_count": 73,
     "metadata": {},
     "output_type": "execute_result"
    },
    {
     "data": {
      "image/png": "[encoded data removed]",
      "text/plain": [
       "<Figure size 432x288 with 1 Axes>"
      ]
     },
     "metadata": {},
     "output_type": "display_data"
    }
   ],
   "source": [
    "data_colors = ['orangered','dodgerblue','springgreen']\n",
    "plt.scatter(X[:,0], X[:,1], c=[data_colors[i] for i in clusters])"
   ]
  },
  {
   "cell_type": "markdown",
   "metadata": {},
   "source": [
    "The third modification changes the definition of distance to a cluster center by weighting the distance with respect to the size of the cluster. This is a regularized K-means which has an open parameter alpha indicating how much we care about balanceness of the data."
   ]
  },
  {
   "cell_type": "code",
   "execution_count": 74,
   "metadata": {},
   "outputs": [],
   "source": [
    "def k_means_modified3(X, n_partition, num_iters):    \n",
    "    \n",
    "    \n",
    "    dim = X.shape[1]\n",
    "    n_data = X.shape[0]\n",
    "    \n",
    "    alpha = 0.0045/(n_data*dim)  # TODO: Open parameter, needs to be tuned\n",
    "    \n",
    "    #Assign data to random clusters\n",
    "    clusters = np.array([random.randint(0,n_partition-1) for i in range(n_data)]) \n",
    "    \n",
    "    k_means_errors=[]\n",
    "    for it in range(num_iters):\n",
    "        print(\"iteration:\",it)\n",
    "        \n",
    "        k_means_errors.append(obj_func(G,clusters))\n",
    "        \n",
    "        #update means\n",
    "        new_centroids = np.zeros((n_partition,dim))\n",
    "        for i in range(n_partition):\n",
    "            cluster_points = np.array([X[j] for j in range(len(X)) if clusters[j] == i])\n",
    "            if len(cluster_points) != 0:\n",
    "                new_centroids[i] = np.mean(cluster_points, axis = 0)\n",
    "        centroids = new_centroids\n",
    "        \n",
    "        data_per_cluster = [np.sum(clusters==i) for i in range(n_partition)]\n",
    "        #print(data_per_cluster)\n",
    "        #re-assign clusters\n",
    "        for i in range(n_data):      \n",
    "            #the error measure is changed here. rather than dist, we use: dist + alpha*clustersize\n",
    "            dist_to_cluster = [(np.linalg.norm(X[i] - centroids[j]))+ alpha*data_per_cluster[j] for j in range(n_partition)]\n",
    "            #if i==1:\n",
    "            #    print([(np.linalg.norm(X[i] - centroids[j])) for j in range(n_partition)])\n",
    "            #    print([alpha*data_per_cluster[j] for j in range(n_partition)])\n",
    "            data_per_cluster[clusters[i]] -= 1\n",
    "            clusters[i] = np.argmin(dist_to_cluster)\n",
    "            data_per_cluster[clusters[i]] += 1\n",
    "\n",
    "\n",
    "    return centroids,clusters,k_means_errors"
   ]
  },
  {
   "cell_type": "code",
   "execution_count": 75,
   "metadata": {},
   "outputs": [
    {
     "name": "stdout",
     "output_type": "stream",
     "text": [
      "iteration: 0\n",
      "iteration: 1\n",
      "iteration: 2\n",
      "iteration: 3\n",
      "iteration: 4\n",
      "iteration: 5\n",
      "iteration: 6\n",
      "iteration: 7\n",
      "iteration: 8\n",
      "iteration: 9\n",
      "iteration: 10\n",
      "iteration: 11\n",
      "iteration: 12\n",
      "iteration: 13\n",
      "iteration: 14\n",
      "iteration: 15\n",
      "iteration: 16\n",
      "iteration: 17\n",
      "iteration: 18\n",
      "iteration: 19\n",
      "K-means_ours (baseline) error with 2 dimensions:\n",
      "8.8589001447178\n",
      "Number of nodes in each cluster:\n",
      "[12, 4146]\n"
     ]
    },
    {
     "data": {
      "image/png": "[encoded data removed]",
      "text/plain": [
       "<Figure size 432x288 with 1 Axes>"
      ]
     },
     "metadata": {},
     "output_type": "display_data"
    }
   ],
   "source": [
    "centroids, clusters, errs = k_means_modified3(X, n_partition, num_iters=20)\n",
    "#TODO: for this the parameter alpha needs to be tuned\n",
    "\n",
    "plt.plot(errs)\n",
    "# compute error function for k-means baseline\n",
    "print(\"K-means_ours (baseline) error with\", X.shape[1], \"dimensions:\")\n",
    "print(obj_func(G,clusters))\n",
    "print(\"Number of nodes in each cluster:\")\n",
    "nodes_in_cluster = [sum(clusters==i) for i in range(n_partition)]\n",
    "print(nodes_in_cluster)\n",
    "#print(\"The final cluster mean values are:\",centroids)"
   ]
  },
  {
   "cell_type": "code",
   "execution_count": 76,
   "metadata": {},
   "outputs": [
    {
     "data": {
      "text/plain": [
       "<matplotlib.collections.PathCollection at 0xba50a87630>"
      ]
     },
     "execution_count": 76,
     "metadata": {},
     "output_type": "execute_result"
    },
    {
     "data": {
      "image/png": "[encoded data removed]",
      "text/plain": [
       "<Figure size 432x288 with 1 Axes>"
      ]
     },
     "metadata": {},
     "output_type": "display_data"
    }
   ],
   "source": [
    "data_colors = ['orangered','dodgerblue','springgreen']\n",
    "plt.scatter(X[:,0], X[:,1], c=[data_colors[i] for i in clusters])"
   ]
  },
  {
   "cell_type": "code",
   "execution_count": 77,
   "metadata": {},
   "outputs": [],
   "source": [
    "def k_means_modified4_plus(X, n_partition, num_iters):    \n",
    "    \n",
    "    \n",
    "    dim = X.shape[1]\n",
    "    n_data = X.shape[0]\n",
    "    max_cluster_size = n_data/n_partition\n",
    "    \n",
    "    #Initialize centeriods using ++ method\n",
    "    centroids = initialize(X, n_partition)\n",
    "    \n",
    "    #\n",
    "    clusters = np.array([0]*n_data)\n",
    "    \n",
    "    k_means_errors=[]\n",
    "    for it in range(num_iters):\n",
    "        print(\"iteration:\",it)\n",
    "        \n",
    "        data_per_cluster = [0.0]*n_partition\n",
    "        \n",
    "        dist_to_cluster = np.zeros([n_data,n_partition])\n",
    "        priority_cluster = np.zeros([n_data,n_partition])\n",
    "        \n",
    "        for i in range(n_data):      \n",
    "            dist_to_cluster[i,:] = [(np.linalg.norm(X[i] - centroids[j])) for j in range(n_partition)]\n",
    "            for j in range(n_partition):\n",
    "                priority_cluster[i,j] = dist_to_cluster[i,j] - np.max(dist_to_cluster[i,:])\n",
    "                \n",
    "        priority = priority_cluster.min(1)                                         \n",
    "        high_priority = np.argsort(priority)\n",
    "            \n",
    "        \n",
    "        for i in range(n_data):\n",
    "            curr_data = high_priority[i]\n",
    "            data_cluser_priority = np.argsort(priority_cluster[curr_data,:])\n",
    "            assigned_flag = False  \n",
    "            for candidate in data_cluser_priority:\n",
    "                if assigned_flag == False and data_per_cluster[candidate] < max_cluster_size:\n",
    "                    clusters[curr_data] = candidate\n",
    "                    data_per_cluster[candidate] += 1\n",
    "                    assigned_flag = True \n",
    "                    continue\n",
    "\n",
    "        \n",
    "        #update means\n",
    "        new_centroids = np.zeros((n_partition,dim))\n",
    "        for i in range(n_partition):\n",
    "            cluster_points = np.array([X[j] for j in range(len(X)) if clusters[j] == i])\n",
    "            if len(cluster_points) != 0:\n",
    "                new_centroids[i] = np.mean(cluster_points, axis = 0)\n",
    "        centroids = new_centroids\n",
    "\n",
    "        k_means_errors.append(obj_func(G,clusters))\n",
    "\n",
    "    return centroids,clusters,k_means_errors"
   ]
  },
  {
   "cell_type": "code",
   "execution_count": 78,
   "metadata": {},
   "outputs": [
    {
     "name": "stdout",
     "output_type": "stream",
     "text": [
      "iteration: 0\n",
      "iteration: 1\n",
      "iteration: 2\n",
      "iteration: 3\n",
      "iteration: 4\n",
      "iteration: 5\n",
      "iteration: 6\n",
      "iteration: 7\n",
      "iteration: 8\n",
      "iteration: 9\n",
      "K-means_ours (baseline) error with 2 dimensions:\n",
      "6.462722462722462\n",
      "Number of nodes in each cluster:\n",
      "[2079, 2079]\n"
     ]
    },
    {
     "data": {
      "image/png": "[encoded data removed]",
      "text/plain": [
       "<Figure size 432x288 with 1 Axes>"
      ]
     },
     "metadata": {},
     "output_type": "display_data"
    }
   ],
   "source": [
    "centroids, clusters, errs = k_means_modified4_plus(X, n_partition, num_iters=10)\n",
    "\n",
    "\n",
    "plt.plot(errs)\n",
    "# compute error function for k-means baseline\n",
    "print(\"K-means_ours (baseline) error with\", X.shape[1], \"dimensions:\")\n",
    "print(obj_func(G,clusters))\n",
    "print(\"Number of nodes in each cluster:\")\n",
    "nodes_in_cluster = [sum(clusters==i) for i in range(n_partition)]\n",
    "print(nodes_in_cluster)\n",
    "#print(\"The final cluster mean values are:\",centroids)"
   ]
  },
  {
   "cell_type": "code",
   "execution_count": 79,
   "metadata": {},
   "outputs": [
    {
     "data": {
      "text/plain": [
       "<matplotlib.collections.PathCollection at 0xba4f819710>"
      ]
     },
     "execution_count": 79,
     "metadata": {},
     "output_type": "execute_result"
    },
    {
     "data": {
      "image/png": "[encoded data removed]",
      "text/plain": [
       "<Figure size 432x288 with 1 Axes>"
      ]
     },
     "metadata": {},
     "output_type": "display_data"
    }
   ],
   "source": [
    "data_colors = ['orangered','dodgerblue','springgreen']\n",
    "plt.scatter(X[:,0], X[:,1], c=[data_colors[i] for i in clusters])"
   ]
  }
 ],
 "metadata": {
  "kernelspec": {
   "display_name": "Python 3",
   "language": "python",
   "name": "python3"
  },
  "language_info": {
   "codemirror_mode": {
    "name": "ipython",
    "version": 3
   },
   "file_extension": ".py",
   "mimetype": "text/x-python",
   "name": "python",
   "nbconvert_exporter": "python",
   "pygments_lexer": "ipython3",
   "version": "3.7.3"
  }
 },
 "nbformat": 4,
 "nbformat_minor": 2
}
